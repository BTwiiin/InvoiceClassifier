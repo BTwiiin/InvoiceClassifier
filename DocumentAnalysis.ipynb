{
 "cells": [
  {
   "cell_type": "code",
   "execution_count": 1,
   "metadata": {},
   "outputs": [],
   "source": [
    "from cuml.linear_model import LogisticRegression\n",
    "from sklearn.svm import SVC \n",
    "import numpy as np\n",
    "from sklearn.utils import shuffle\n",
    "import pandas as pd\n",
    "from sklearn.metrics import classification_report, accuracy_score\n",
    "from sklearn.model_selection import train_test_split\n",
    "from sklearn.feature_extraction.text import TfidfVectorizer\n",
    "import json\n",
    "from sklearn.preprocessing import MinMaxScaler\n",
    "from sklearn.preprocessing import LabelEncoder\n",
    "from scipy.sparse import csr_matrix"
   ]
  },
  {
   "cell_type": "code",
   "execution_count": 2,
   "metadata": {},
   "outputs": [],
   "source": [
    "def extract_bbox_features(bboxes):\n",
    "    features = []\n",
    "    for bbox in bboxes:\n",
    "        if isinstance(bbox, str):\n",
    "            try:\n",
    "                coords = json.loads(bbox)\n",
    "                x_min, y_min = coords[0]\n",
    "                x_max, y_max = coords[1]\n",
    "                width = x_max - x_min\n",
    "                height = y_max - y_min\n",
    "                area = width * height\n",
    "                aspect_ratio = height / width if width > 0 else 0\n",
    "                features.append([x_min, y_min, x_max, y_max, width, height, area, aspect_ratio])\n",
    "            except (json.JSONDecodeError, ValueError):\n",
    "                features.append([0, 0, 0, 0, 0, 0, 0, 0])\n",
    "        else:\n",
    "            features.append([0, 0, 0, 0, 0, 0, 0, 0])\n",
    "    return np.array(features)"
   ]
  },
  {
   "cell_type": "code",
   "execution_count": 3,
   "metadata": {},
   "outputs": [],
   "source": [
    "df = pd.read_csv(r'train_data_with_bboxes.csv')"
   ]
  },
  {
   "cell_type": "code",
   "execution_count": 13,
   "metadata": {},
   "outputs": [
    {
     "name": "stdout",
     "output_type": "stream",
     "text": [
      "Combined embeddings shape: (114594, 5008)\n",
      "Training data shape: (91675, 5008)\n",
      "Validation data shape: (22919, 5008)\n"
     ]
    }
   ],
   "source": [
    "bbox_features = extract_bbox_features(df['Bounding Box'])\n",
    "\n",
    "scaler = MinMaxScaler()\n",
    "normalized_bbox_features = scaler.fit_transform(bbox_features)\n",
    "\n",
    "vectorizer = TfidfVectorizer(stop_words='english', max_features=5000)\n",
    "text_embeddings = vectorizer.fit_transform(df['Text']).toarray()\n",
    "\n",
    "text_embeddings_sparse = csr_matrix(text_embeddings)\n",
    "bbox_features_sparse = csr_matrix(normalized_bbox_features)\n",
    "\n",
    "combined_embeddings_sparse = csr_matrix(np.hstack([text_embeddings_sparse.toarray(), bbox_features_sparse.toarray()]))\n",
    "\n",
    "print(f\"Combined embeddings shape: {combined_embeddings_sparse.shape}\")\n",
    "\n",
    "y = df['Label']\n",
    "\n",
    "X_train, X_val, y_train, y_val = train_test_split(combined_embeddings_sparse, y, test_size=0.2, random_state=42)\n",
    "\n",
    "print(f\"Training data shape: {X_train.shape}\")\n",
    "print(f\"Validation data shape: {X_val.shape}\")"
   ]
  },
  {
   "cell_type": "code",
   "execution_count": 15,
   "metadata": {},
   "outputs": [
    {
     "name": "stdout",
     "output_type": "stream",
     "text": [
      "int64\n",
      "0.9968148697587155\n",
      "                 precision    recall  f1-score   support\n",
      "\n",
      "     AMOUNT_DUE       0.99      1.00      1.00       158\n",
      "        BILL_TO       1.00      1.00      1.00       335\n",
      "          BUYER       1.00      1.00      1.00      1299\n",
      "     CONDITIONS       1.00      1.00      1.00       436\n",
      "           DATE       1.00      1.00      1.00      1993\n",
      "       DISCOUNT       1.00      1.00      1.00       495\n",
      "       DUE_DATE       1.00      1.00      1.00      1188\n",
      "        GST(1%)       0.91      0.89      0.90        45\n",
      "       GST(12%)       0.85      1.00      0.92        33\n",
      "       GST(18%)       0.95      1.00      0.98       121\n",
      "       GST(20%)       0.94      0.98      0.96        48\n",
      "        GST(5%)       0.80      0.19      0.30        43\n",
      "        GST(7%)       0.69      0.74      0.71        34\n",
      "        GST(9%)       0.55      0.69      0.61        68\n",
      "          GSTIN       1.00      1.00      1.00       253\n",
      "    GSTIN_BUYER       1.00      1.00      1.00       111\n",
      "   GSTIN_SELLER       1.00      1.00      1.00       199\n",
      "           NOTE       1.00      1.00      1.00      1058\n",
      "         NUMBER       1.00      1.00      1.00      1769\n",
      "          OTHER       1.00      1.00      1.00      1994\n",
      "PAYMENT_DETAILS       1.00      1.00      1.00       526\n",
      "      PO_NUMBER       1.00      1.00      1.00       288\n",
      " SELLER_ADDRESS       1.00      1.00      1.00      1631\n",
      "   SELLER_EMAIL       1.00      1.00      1.00       875\n",
      "    SELLER_NAME       1.00      1.00      1.00      1333\n",
      "    SELLER_SITE       1.00      1.00      1.00       261\n",
      "        SEND_TO       1.00      1.00      1.00       366\n",
      "      SUB_TOTAL       1.00      1.00      1.00      1335\n",
      "            TAX       1.00      1.00      1.00       770\n",
      "          TITLE       1.00      1.00      1.00      1521\n",
      "          TOTAL       1.00      1.00      1.00      1556\n",
      "    TOTAL_WORDS       1.00      1.00      1.00       777\n",
      "\n",
      "       accuracy                           1.00     22919\n",
      "      macro avg       0.96      0.95      0.95     22919\n",
      "   weighted avg       1.00      1.00      1.00     22919\n",
      "\n"
     ]
    }
   ],
   "source": [
    "label_encoder = LabelEncoder()\n",
    "y_train = label_encoder.fit_transform(y_train)\n",
    "\n",
    "print(y_train.dtype)\n",
    "\n",
    "lg_model = LogisticRegression()\n",
    "lg_model.fit(X_train, y_train)\n",
    "\n",
    "y_pred = lg_model.predict(X_val)\n",
    "\n",
    "y_pred_original = label_encoder.inverse_transform(y_pred)\n",
    "\n",
    "\n",
    "print(accuracy_score(y_val, y_pred_original))\n",
    "print(classification_report(y_val, y_pred_original))"
   ]
  },
  {
   "cell_type": "code",
   "execution_count": null,
   "metadata": {},
   "outputs": [
    {
     "name": "stderr",
     "output_type": "stream",
     "text": [
      "/home/vshug/miniforge3/envs/rapids-24.10/lib/python3.12/site-packages/xgboost/core.py:158: UserWarning: [18:00:40] WARNING: /home/conda/feedstock_root/build_artifacts/xgboost-split_1727241199541/work/src/learner.cc:740: \n",
      "Parameters: { \"use_label_encoder\" } are not used.\n",
      "\n",
      "  warnings.warn(smsg, UserWarning)\n"
     ]
    },
    {
     "name": "stdout",
     "output_type": "stream",
     "text": [
      "0.9996945765522056\n",
      "                 precision    recall  f1-score   support\n",
      "\n",
      "     AMOUNT_DUE       0.99      1.00      1.00       158\n",
      "        BILL_TO       1.00      1.00      1.00       335\n",
      "          BUYER       1.00      1.00      1.00      1299\n",
      "     CONDITIONS       1.00      1.00      1.00       436\n",
      "           DATE       1.00      1.00      1.00      1993\n",
      "       DISCOUNT       1.00      1.00      1.00       495\n",
      "       DUE_DATE       1.00      1.00      1.00      1188\n",
      "        GST(1%)       1.00      0.98      0.99        45\n",
      "       GST(12%)       1.00      1.00      1.00        33\n",
      "       GST(18%)       1.00      1.00      1.00       121\n",
      "       GST(20%)       0.98      1.00      0.99        48\n",
      "        GST(5%)       0.95      0.95      0.95        43\n",
      "        GST(7%)       1.00      0.97      0.99        34\n",
      "        GST(9%)       0.99      1.00      0.99        68\n",
      "          GSTIN       1.00      1.00      1.00       253\n",
      "    GSTIN_BUYER       1.00      1.00      1.00       111\n",
      "   GSTIN_SELLER       1.00      1.00      1.00       199\n",
      "           NOTE       1.00      1.00      1.00      1058\n",
      "         NUMBER       1.00      1.00      1.00      1769\n",
      "          OTHER       1.00      1.00      1.00      1994\n",
      "PAYMENT_DETAILS       1.00      1.00      1.00       526\n",
      "      PO_NUMBER       1.00      1.00      1.00       288\n",
      " SELLER_ADDRESS       1.00      1.00      1.00      1631\n",
      "   SELLER_EMAIL       1.00      1.00      1.00       875\n",
      "    SELLER_NAME       1.00      1.00      1.00      1333\n",
      "    SELLER_SITE       1.00      1.00      1.00       261\n",
      "        SEND_TO       1.00      1.00      1.00       366\n",
      "      SUB_TOTAL       1.00      1.00      1.00      1335\n",
      "            TAX       1.00      1.00      1.00       770\n",
      "          TITLE       1.00      1.00      1.00      1521\n",
      "          TOTAL       1.00      1.00      1.00      1556\n",
      "    TOTAL_WORDS       1.00      1.00      1.00       777\n",
      "\n",
      "       accuracy                           1.00     22919\n",
      "      macro avg       1.00      1.00      1.00     22919\n",
      "   weighted avg       1.00      1.00      1.00     22919\n",
      "\n"
     ]
    }
   ],
   "source": [
    "from xgboost import XGBClassifier\n",
    "\n",
    "xgb_model = XGBClassifier(\n",
    "    n_estimators=100,\n",
    "    max_depth=6,\n",
    "    learning_rate=0.1,\n",
    "    random_state=42,\n",
    "    use_label_encoder=False,\n",
    "    eval_metric='mlogloss'\n",
    ")\n",
    "\n",
    "xgb_model.fit(X_train, y_train)\n",
    "\n",
    "y_pred = xgb_model.predict(X_val)\n",
    "\n",
    "y_pred_original = label_encoder.inverse_transform(y_pred)\n",
    "\n",
    "print(accuracy_score(y_val, y_pred_original))\n",
    "print(classification_report(y_val, y_pred_original))"
   ]
  },
  {
   "cell_type": "code",
   "execution_count": 8,
   "metadata": {},
   "outputs": [
    {
     "name": "stdout",
     "output_type": "stream",
     "text": [
      "0.9992582573410708\n",
      "                 precision    recall  f1-score   support\n",
      "\n",
      "     AMOUNT_DUE       0.99      1.00      1.00       158\n",
      "        BILL_TO       1.00      1.00      1.00       335\n",
      "          BUYER       1.00      1.00      1.00      1299\n",
      "     CONDITIONS       1.00      1.00      1.00       436\n",
      "           DATE       1.00      1.00      1.00      1993\n",
      "       DISCOUNT       1.00      1.00      1.00       495\n",
      "       DUE_DATE       1.00      1.00      1.00      1188\n",
      "        GST(1%)       0.98      1.00      0.99        45\n",
      "       GST(12%)       0.92      1.00      0.96        33\n",
      "       GST(18%)       0.97      0.97      0.97       121\n",
      "       GST(20%)       0.96      0.94      0.95        48\n",
      "        GST(5%)       0.93      0.93      0.93        43\n",
      "        GST(7%)       0.97      1.00      0.99        34\n",
      "        GST(9%)       0.97      0.93      0.95        68\n",
      "          GSTIN       1.00      1.00      1.00       253\n",
      "    GSTIN_BUYER       1.00      1.00      1.00       111\n",
      "   GSTIN_SELLER       1.00      1.00      1.00       199\n",
      "           NOTE       1.00      1.00      1.00      1058\n",
      "         NUMBER       1.00      1.00      1.00      1769\n",
      "          OTHER       1.00      1.00      1.00      1994\n",
      "PAYMENT_DETAILS       1.00      1.00      1.00       526\n",
      "      PO_NUMBER       1.00      1.00      1.00       288\n",
      " SELLER_ADDRESS       1.00      1.00      1.00      1631\n",
      "   SELLER_EMAIL       1.00      1.00      1.00       875\n",
      "    SELLER_NAME       1.00      1.00      1.00      1333\n",
      "    SELLER_SITE       1.00      1.00      1.00       261\n",
      "        SEND_TO       1.00      1.00      1.00       366\n",
      "      SUB_TOTAL       1.00      1.00      1.00      1335\n",
      "            TAX       1.00      1.00      1.00       770\n",
      "          TITLE       1.00      1.00      1.00      1521\n",
      "          TOTAL       1.00      1.00      1.00      1556\n",
      "    TOTAL_WORDS       1.00      1.00      1.00       777\n",
      "\n",
      "       accuracy                           1.00     22919\n",
      "      macro avg       0.99      0.99      0.99     22919\n",
      "   weighted avg       1.00      1.00      1.00     22919\n",
      "\n"
     ]
    }
   ],
   "source": [
    "svm = SVC(kernel='linear', random_state=42, class_weight='balanced')\n",
    "\n",
    "svm.fit(X_train, y_train)\n",
    "\n",
    "y_pred = svm.predict(X_val)\n",
    "\n",
    "y_pred_original = label_encoder.inverse_transform(y_pred)\n",
    "\n",
    "print(accuracy_score(y_val, y_pred_original))\n",
    "print(classification_report(y_val, y_pred_original))"
   ]
  },
  {
   "cell_type": "code",
   "execution_count": 9,
   "metadata": {},
   "outputs": [
    {
     "name": "stdout",
     "output_type": "stream",
     "text": [
      "(91675, 5008)\n",
      "(94865, 5008)\n"
     ]
    }
   ],
   "source": [
    "from imblearn.over_sampling import RandomOverSampler\n",
    "\n",
    "sampling_strategy = {\n",
    "    'GST(5%)': 1000,\n",
    "    'GST(7%)': 1000,\n",
    "    'GST(1%)': 1000,\n",
    "    'GST(9%)': 1000,\n",
    "}\n",
    "\n",
    "print(X_train.shape)\n",
    "\n",
    "ros = RandomOverSampler(sampling_strategy=sampling_strategy, random_state=42)\n",
    "X_resampled, y_resampled = ros.fit_resample(X_train, y_train)\n",
    "\n",
    "print(X_resampled.shape)"
   ]
  },
  {
   "cell_type": "code",
   "execution_count": 12,
   "metadata": {},
   "outputs": [
    {
     "name": "stdout",
     "output_type": "stream",
     "text": [
      "0.9993018892621842\n",
      "                 precision    recall  f1-score   support\n",
      "\n",
      "     AMOUNT_DUE       0.99      1.00      1.00       158\n",
      "        BILL_TO       1.00      1.00      1.00       335\n",
      "          BUYER       1.00      1.00      1.00      1299\n",
      "     CONDITIONS       1.00      1.00      1.00       436\n",
      "           DATE       1.00      1.00      1.00      1993\n",
      "       DISCOUNT       1.00      1.00      1.00       495\n",
      "       DUE_DATE       1.00      1.00      1.00      1188\n",
      "        GST(1%)       0.98      1.00      0.99        45\n",
      "       GST(12%)       0.92      1.00      0.96        33\n",
      "       GST(18%)       0.98      0.97      0.97       121\n",
      "       GST(20%)       0.96      0.94      0.95        48\n",
      "        GST(5%)       0.93      0.95      0.94        43\n",
      "        GST(7%)       0.97      1.00      0.99        34\n",
      "        GST(9%)       0.97      0.93      0.95        68\n",
      "          GSTIN       1.00      1.00      1.00       253\n",
      "    GSTIN_BUYER       1.00      1.00      1.00       111\n",
      "   GSTIN_SELLER       1.00      1.00      1.00       199\n",
      "           NOTE       1.00      1.00      1.00      1058\n",
      "         NUMBER       1.00      1.00      1.00      1769\n",
      "          OTHER       1.00      1.00      1.00      1994\n",
      "PAYMENT_DETAILS       1.00      1.00      1.00       526\n",
      "      PO_NUMBER       1.00      1.00      1.00       288\n",
      " SELLER_ADDRESS       1.00      1.00      1.00      1631\n",
      "   SELLER_EMAIL       1.00      1.00      1.00       875\n",
      "    SELLER_NAME       1.00      1.00      1.00      1333\n",
      "    SELLER_SITE       1.00      1.00      1.00       261\n",
      "        SEND_TO       1.00      1.00      1.00       366\n",
      "      SUB_TOTAL       1.00      1.00      1.00      1335\n",
      "            TAX       1.00      1.00      1.00       770\n",
      "          TITLE       1.00      1.00      1.00      1521\n",
      "          TOTAL       1.00      1.00      1.00      1556\n",
      "    TOTAL_WORDS       1.00      1.00      1.00       777\n",
      "\n",
      "       accuracy                           1.00     22919\n",
      "      macro avg       0.99      0.99      0.99     22919\n",
      "   weighted avg       1.00      1.00      1.00     22919\n",
      "\n"
     ]
    }
   ],
   "source": [
    "label_encoder = LabelEncoder()\n",
    "y_resampled = label_encoder.fit_transform(y_resampled)\n",
    "\n",
    "svm = SVC(kernel='linear', random_state=42, class_weight='balanced')\n",
    "\n",
    "svm.fit(X_resampled, y_resampled)\n",
    "\n",
    "y_pred = svm.predict(X_val)\n",
    "\n",
    "y_pred_original = label_encoder.inverse_transform(y_pred)\n",
    "\n",
    "print(accuracy_score(y_val, y_pred_original))\n",
    "print(classification_report(y_val, y_pred_original))"
   ]
  },
  {
   "cell_type": "code",
   "execution_count": 17,
   "metadata": {},
   "outputs": [
    {
     "name": "stderr",
     "output_type": "stream",
     "text": [
      "/home/vshug/miniforge3/envs/rapids-24.10/lib/python3.12/site-packages/xgboost/core.py:158: UserWarning: [18:02:03] WARNING: /home/conda/feedstock_root/build_artifacts/xgboost-split_1727241199541/work/src/learner.cc:740: \n",
      "Parameters: { \"use_label_encoder\" } are not used.\n",
      "\n",
      "  warnings.warn(smsg, UserWarning)\n"
     ]
    },
    {
     "name": "stdout",
     "output_type": "stream",
     "text": [
      "0.9997382084733191\n",
      "                 precision    recall  f1-score   support\n",
      "\n",
      "     AMOUNT_DUE       0.99      1.00      1.00       158\n",
      "        BILL_TO       1.00      1.00      1.00       335\n",
      "          BUYER       1.00      1.00      1.00      1299\n",
      "     CONDITIONS       1.00      1.00      1.00       436\n",
      "           DATE       1.00      1.00      1.00      1993\n",
      "       DISCOUNT       1.00      1.00      1.00       495\n",
      "       DUE_DATE       1.00      1.00      1.00      1188\n",
      "        GST(1%)       1.00      0.98      0.99        45\n",
      "       GST(12%)       1.00      1.00      1.00        33\n",
      "       GST(18%)       1.00      1.00      1.00       121\n",
      "       GST(20%)       0.98      1.00      0.99        48\n",
      "        GST(5%)       0.95      0.98      0.97        43\n",
      "        GST(7%)       1.00      0.97      0.99        34\n",
      "        GST(9%)       1.00      1.00      1.00        68\n",
      "          GSTIN       1.00      1.00      1.00       253\n",
      "    GSTIN_BUYER       1.00      1.00      1.00       111\n",
      "   GSTIN_SELLER       1.00      1.00      1.00       199\n",
      "           NOTE       1.00      1.00      1.00      1058\n",
      "         NUMBER       1.00      1.00      1.00      1769\n",
      "          OTHER       1.00      1.00      1.00      1994\n",
      "PAYMENT_DETAILS       1.00      1.00      1.00       526\n",
      "      PO_NUMBER       1.00      1.00      1.00       288\n",
      " SELLER_ADDRESS       1.00      1.00      1.00      1631\n",
      "   SELLER_EMAIL       1.00      1.00      1.00       875\n",
      "    SELLER_NAME       1.00      1.00      1.00      1333\n",
      "    SELLER_SITE       1.00      1.00      1.00       261\n",
      "        SEND_TO       1.00      1.00      1.00       366\n",
      "      SUB_TOTAL       1.00      1.00      1.00      1335\n",
      "            TAX       1.00      1.00      1.00       770\n",
      "          TITLE       1.00      1.00      1.00      1521\n",
      "          TOTAL       1.00      1.00      1.00      1556\n",
      "    TOTAL_WORDS       1.00      1.00      1.00       777\n",
      "\n",
      "       accuracy                           1.00     22919\n",
      "      macro avg       1.00      1.00      1.00     22919\n",
      "   weighted avg       1.00      1.00      1.00     22919\n",
      "\n"
     ]
    }
   ],
   "source": [
    "xgb_model.fit(X_resampled, y_resampled)\n",
    "\n",
    "y_pred = xgb_model.predict(X_val)\n",
    "\n",
    "y_pred_original = label_encoder.inverse_transform(y_pred)\n",
    "\n",
    "print(accuracy_score(y_val, y_pred_original))\n",
    "print(classification_report(y_val, y_pred_original))"
   ]
  },
  {
   "cell_type": "code",
   "execution_count": 19,
   "metadata": {},
   "outputs": [
    {
     "name": "stdout",
     "output_type": "stream",
     "text": [
      "Combined embeddings shape: (5200, 5008)\n",
      "Combined embeddings shape: (109394, 5008)\n"
     ]
    }
   ],
   "source": [
    "df_400 = pd.read_csv(r'400.csv')\n",
    "df_train = pd.read_csv(r'train.csv')\n",
    "\n",
    "bbox_features_400 = extract_bbox_features(df_400['Bounding Box'])\n",
    "bbox_features_train = extract_bbox_features(df_train['Bounding Box'])\n",
    "\n",
    "scaler = MinMaxScaler()\n",
    "normalized_bbox_features_400 = scaler.fit_transform(bbox_features_400)\n",
    "normalized_bbox_features_train = scaler.fit_transform(bbox_features_train)\n",
    "\n",
    "vectorizer = TfidfVectorizer(stop_words='english', max_features=5000)\n",
    "text_embeddings_train = vectorizer.fit_transform(df_train['Text'])\n",
    "text_embeddings_400 = vectorizer.transform(df_400['Text'])\n",
    "\n",
    "text_embeddings_sparse_400 = csr_matrix(text_embeddings_400)\n",
    "bbox_features_sparse_400 = csr_matrix(normalized_bbox_features_400)\n",
    "\n",
    "text_embeddings_sparse_train = csr_matrix(text_embeddings_train)\n",
    "bbox_features_sparse_train = csr_matrix(normalized_bbox_features_train)\n",
    "\n",
    "combined_embeddings_sparse_400 = csr_matrix(np.hstack([text_embeddings_sparse_400.toarray(), bbox_features_sparse_400.toarray()]))\n",
    "combined_embeddings_sparse_train = csr_matrix(np.hstack([text_embeddings_sparse_train.toarray(), bbox_features_sparse_train.toarray()]))\n",
    "\n",
    "print(f\"Combined embeddings shape: {combined_embeddings_sparse_400.shape}\")\n",
    "print(f\"Combined embeddings shape: {combined_embeddings_sparse_train.shape}\")\n",
    "\n",
    "y_train = df_train['Label']\n",
    "y_val = df_400['Label']"
   ]
  },
  {
   "cell_type": "code",
   "execution_count": 16,
   "metadata": {},
   "outputs": [
    {
     "name": "stdout",
     "output_type": "stream",
     "text": [
      "0.9230769230769231\n",
      "                 precision    recall  f1-score   support\n",
      "\n",
      "          BUYER       1.00      1.00      1.00       400\n",
      "     CONDITIONS       1.00      1.00      1.00       200\n",
      "           DATE       1.00      1.00      1.00       400\n",
      "       DUE_DATE       1.00      1.00      1.00       200\n",
      "          GSTIN       0.50      1.00      0.67       200\n",
      "   GSTIN_SELLER       0.00      0.00      0.00       200\n",
      "           NOTE       1.00      1.00      1.00       200\n",
      "         NUMBER       0.67      1.00      0.80       400\n",
      "          OTHER       1.00      1.00      1.00       400\n",
      "PAYMENT_DETAILS       1.00      1.00      1.00       200\n",
      " SELLER_ADDRESS       1.00      1.00      1.00       200\n",
      "   SELLER_EMAIL       1.00      1.00      1.00       400\n",
      "    SELLER_NAME       1.00      0.50      0.67       400\n",
      "    SELLER_SITE       1.00      1.00      1.00       200\n",
      "        SEND_TO       1.00      1.00      1.00       200\n",
      "      SUB_TOTAL       1.00      1.00      1.00       200\n",
      "          TOTAL       1.00      1.00      1.00       400\n",
      "    TOTAL_WORDS       1.00      1.00      1.00       400\n",
      "\n",
      "       accuracy                           0.92      5200\n",
      "      macro avg       0.90      0.92      0.90      5200\n",
      "   weighted avg       0.92      0.92      0.91      5200\n",
      "\n"
     ]
    },
    {
     "name": "stderr",
     "output_type": "stream",
     "text": [
      "/home/vshug/miniforge3/envs/rapids-24.10/lib/python3.12/site-packages/sklearn/metrics/_classification.py:1531: UndefinedMetricWarning: Precision is ill-defined and being set to 0.0 in labels with no predicted samples. Use `zero_division` parameter to control this behavior.\n",
      "  _warn_prf(average, modifier, f\"{metric.capitalize()} is\", len(result))\n",
      "/home/vshug/miniforge3/envs/rapids-24.10/lib/python3.12/site-packages/sklearn/metrics/_classification.py:1531: UndefinedMetricWarning: Precision is ill-defined and being set to 0.0 in labels with no predicted samples. Use `zero_division` parameter to control this behavior.\n",
      "  _warn_prf(average, modifier, f\"{metric.capitalize()} is\", len(result))\n",
      "/home/vshug/miniforge3/envs/rapids-24.10/lib/python3.12/site-packages/sklearn/metrics/_classification.py:1531: UndefinedMetricWarning: Precision is ill-defined and being set to 0.0 in labels with no predicted samples. Use `zero_division` parameter to control this behavior.\n",
      "  _warn_prf(average, modifier, f\"{metric.capitalize()} is\", len(result))\n"
     ]
    }
   ],
   "source": [
    "y_train = label_encoder.transform(y_train)\n",
    "\n",
    "svm_inter = SVC(kernel='linear', probability=True, random_state=42, class_weight='balanced')\n",
    "svm_inter.fit(combined_embeddings_sparse_train, y_train)\n",
    "\n",
    "y_pred = svm_inter.predict(combined_embeddings_sparse_400)\n",
    "\n",
    "y_pred_original = label_encoder.inverse_transform(y_pred)\n",
    "\n",
    "print(accuracy_score(y_val, y_pred_original))\n",
    "print(classification_report(y_val, y_pred_original))"
   ]
  },
  {
   "cell_type": "code",
   "execution_count": 21,
   "metadata": {},
   "outputs": [
    {
     "name": "stderr",
     "output_type": "stream",
     "text": [
      "/home/vshug/miniforge3/envs/rapids-24.10/lib/python3.12/site-packages/xgboost/core.py:158: UserWarning: [18:04:36] WARNING: /home/conda/feedstock_root/build_artifacts/xgboost-split_1727241199541/work/src/learner.cc:740: \n",
      "Parameters: { \"use_label_encoder\" } are not used.\n",
      "\n",
      "  warnings.warn(smsg, UserWarning)\n"
     ]
    },
    {
     "name": "stdout",
     "output_type": "stream",
     "text": [
      "0.9615384615384616\n",
      "                 precision    recall  f1-score   support\n",
      "\n",
      "          BUYER       1.00      0.50      0.67       400\n",
      "     CONDITIONS       1.00      1.00      1.00       200\n",
      "           DATE       1.00      1.00      1.00       400\n",
      "       DUE_DATE       1.00      1.00      1.00       200\n",
      "          GSTIN       1.00      1.00      1.00       200\n",
      "   GSTIN_SELLER       1.00      1.00      1.00       200\n",
      "           NOTE       1.00      1.00      1.00       200\n",
      "         NUMBER       1.00      1.00      1.00       400\n",
      "          OTHER       0.67      1.00      0.80       400\n",
      "PAYMENT_DETAILS       1.00      1.00      1.00       200\n",
      " SELLER_ADDRESS       1.00      1.00      1.00       200\n",
      "   SELLER_EMAIL       1.00      1.00      1.00       400\n",
      "    SELLER_NAME       1.00      1.00      1.00       400\n",
      "    SELLER_SITE       1.00      1.00      1.00       200\n",
      "        SEND_TO       1.00      1.00      1.00       200\n",
      "      SUB_TOTAL       1.00      1.00      1.00       200\n",
      "          TOTAL       1.00      1.00      1.00       400\n",
      "    TOTAL_WORDS       1.00      1.00      1.00       400\n",
      "\n",
      "       accuracy                           0.96      5200\n",
      "      macro avg       0.98      0.97      0.97      5200\n",
      "   weighted avg       0.97      0.96      0.96      5200\n",
      "\n"
     ]
    }
   ],
   "source": [
    "y_train = label_encoder.transform(y_train)\n",
    "\n",
    "xgb_model.fit(combined_embeddings_sparse_train, y_train)\n",
    "\n",
    "y_pred = xgb_model.predict(combined_embeddings_sparse_400)\n",
    "\n",
    "y_pred_original = label_encoder.inverse_transform(y_pred)\n",
    "\n",
    "print(accuracy_score(y_val, y_pred_original))\n",
    "print(classification_report(y_val, y_pred_original))"
   ]
  }
 ],
 "metadata": {
  "kernelspec": {
   "display_name": "Python 3 (ipykernel)",
   "language": "python",
   "name": "python3"
  },
  "language_info": {
   "codemirror_mode": {
    "name": "ipython",
    "version": 3
   },
   "file_extension": ".py",
   "mimetype": "text/x-python",
   "name": "python",
   "nbconvert_exporter": "python",
   "pygments_lexer": "ipython3",
   "version": "3.12.7"
  }
 },
 "nbformat": 4,
 "nbformat_minor": 2
}

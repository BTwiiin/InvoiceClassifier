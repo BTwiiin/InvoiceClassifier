{
 "cells": [
  {
   "cell_type": "code",
   "execution_count": 9,
   "id": "97d10c4f",
   "metadata": {},
   "outputs": [],
   "source": [
    "from sklearn.feature_extraction.text import TfidfVectorizer\n",
    "from sklearn.svm import SVC\n",
    "from sklearn.model_selection import train_test_split\n",
    "from sklearn.metrics import classification_report, accuracy_score\n",
    "import pytesseract\n",
    "import pandas as pd\n",
    "import json\n",
    "import os"
   ]
  },
  {
   "cell_type": "code",
   "execution_count": null,
   "id": "initial_id",
   "metadata": {
    "collapsed": false,
    "is_executing": true
   },
   "outputs": [],
   "source": [
    "def pytesseract_image_to_string(image_path):\n",
    "    pytesseract.pytesseract.tesseract_cmd = r'C:\\Program Files\\Tesseract-OCR\\tesseract.exe'\n",
    "    return [item for item in pytesseract.image_to_string(image_path).split('\\n\\n') if item != '']\n"
   ]
  },
  {
   "cell_type": "code",
   "execution_count": null,
   "id": "b084722476c4b9a8",
   "metadata": {
    "ExecuteTime": {
     "end_time": "2024-11-19T17:24:34.328544900Z",
     "start_time": "2024-11-19T17:24:32.575978200Z"
    },
    "collapsed": false
   },
   "outputs": [
    {
     "name": "stdout",
     "output_type": "stream",
     "text": [
      "                         Text       Label\n",
      "0      Bill to:Michael Sparks       BUYER\n",
      "1        Terms and Conditions  CONDITIONS\n",
      "2           Date: 03-Jan-1994        DATE\n",
      "3  DISCOUNT(2.14%): (-)  9.39    DISCOUNT\n",
      "4      Due Date : 06-Feb-2007    DUE_DATE\n"
     ]
    }
   ],
   "source": [
    "folder_path = r'notebooks\\invoices_dataset_final\\Annotations\\Original_Format'\n",
    "\n",
    "X_train = []\n",
    "y_train = []\n",
    "\n",
    "def extract_data_from_json(json_file):\n",
    "    with open(json_file, 'r') as f:\n",
    "        data = json.load(f)\n",
    "        \n",
    "    for label, content in data.items():\n",
    "        if isinstance(content, dict) and 'text' in content:\n",
    "            text = content['text'].split('\\n')[0]\n",
    "            X_train.append(text)\n",
    "            y_train.append(label)\n",
    "        elif isinstance(content, list):\n",
    "            for item in content:\n",
    "                if isinstance(item, dict) and 'text' in item:\n",
    "                    text = item['text'].split('\\n')[0]\n",
    "                    X_train.append(text)\n",
    "                    y_train.append(label)\n",
    "\n",
    "# Iterate over all the JSON files in the folder\n",
    "for filename in os.listdir(folder_path):\n",
    "    if filename.endswith('.json'):\n",
    "        json_file = os.path.join(folder_path, filename)\n",
    "        extract_data_from_json(json_file)\n",
    "\n",
    "train_df = pd.DataFrame({\n",
    "    'Text': X_train,\n",
    "    'Label': y_train\n",
    "})\n",
    "\n",
    "train_df.to_csv('train_data.csv', index=False)\n",
    "\n",
    "print(train_df.head())"
   ]
  },
  {
   "cell_type": "code",
   "execution_count": 6,
   "id": "41460c5b",
   "metadata": {},
   "outputs": [],
   "source": [
    "df = pd.read_csv('train_data.csv')\n",
    "X_train = df['Text']\n",
    "y_train = df['Label']"
   ]
  },
  {
   "cell_type": "code",
   "execution_count": 7,
   "id": "cf4b2fd5",
   "metadata": {},
   "outputs": [],
   "source": [
    "vectorizer = TfidfVectorizer(stop_words='english', max_features=5000)\n",
    "X_train_vec = vectorizer.fit_transform(X_train)\n",
    "\n",
    "X_train_split, X_val_split, y_train_split, y_val_split = train_test_split(X_train_vec, y_train, test_size=0.2, random_state=42)"
   ]
  },
  {
   "cell_type": "code",
   "execution_count": null,
   "id": "c31de82ce59fa54",
   "metadata": {
    "ExecuteTime": {
     "end_time": "2024-11-20T13:50:06.930193100Z",
     "start_time": "2024-11-20T13:47:12.587951400Z"
    },
    "collapsed": false
   },
   "outputs": [
    {
     "name": "stdout",
     "output_type": "stream",
     "text": [
      "Accuracy: 0.8844626728914874\n",
      "Classification Report:\n",
      "                 precision    recall  f1-score   support\n",
      "\n",
      "     AMOUNT_DUE       0.99      1.00      1.00       158\n",
      "        BILL_TO       0.91      1.00      0.95       335\n",
      "          BUYER       0.97      1.00      0.98      1299\n",
      "     CONDITIONS       1.00      1.00      1.00       436\n",
      "           DATE       0.91      0.54      0.68      1993\n",
      "       DISCOUNT       1.00      1.00      1.00       495\n",
      "       DUE_DATE       0.54      0.95      0.69      1188\n",
      "        GST(1%)       0.89      0.91      0.90        45\n",
      "       GST(12%)       0.85      1.00      0.92        33\n",
      "       GST(18%)       0.95      1.00      0.98       121\n",
      "       GST(20%)       0.94      0.98      0.96        48\n",
      "        GST(5%)       0.38      0.07      0.12        43\n",
      "        GST(7%)       0.00      0.00      0.00        34\n",
      "        GST(9%)       0.46      0.76      0.57        68\n",
      "          GSTIN       1.00      1.00      1.00       253\n",
      "    GSTIN_BUYER       1.00      1.00      1.00       111\n",
      "   GSTIN_SELLER       1.00      1.00      1.00       199\n",
      "           NOTE       1.00      1.00      1.00      1058\n",
      "         NUMBER       0.92      0.92      0.92      1769\n",
      "          OTHER       0.97      0.29      0.44      1994\n",
      "PAYMENT_DETAILS       1.00      1.00      1.00       526\n",
      "      PO_NUMBER       1.00      1.00      1.00       288\n",
      " SELLER_ADDRESS       0.94      1.00      0.97      1631\n",
      "   SELLER_EMAIL       1.00      1.00      1.00       875\n",
      "    SELLER_NAME       1.00      1.00      1.00      1333\n",
      "    SELLER_SITE       1.00      1.00      1.00       261\n",
      "        SEND_TO       1.00      1.00      1.00       366\n",
      "      SUB_TOTAL       1.00      1.00      1.00      1335\n",
      "            TAX       1.00      1.00      1.00       770\n",
      "          TITLE       0.57      1.00      0.73      1521\n",
      "          TOTAL       1.00      1.00      1.00      1556\n",
      "    TOTAL_WORDS       1.00      1.00      1.00       777\n",
      "\n",
      "       accuracy                           0.88     22919\n",
      "      macro avg       0.88      0.89      0.87     22919\n",
      "   weighted avg       0.92      0.88      0.87     22919\n",
      "\n"
     ]
    }
   ],
   "source": [
    "svm = SVC(kernel='linear') \n",
    "svm.fit(X_train_split, y_train_split)\n",
    "\n",
    "y_pred = svm.predict(X_val_split)\n",
    "\n",
    "print(\"Accuracy:\", accuracy_score(y_val_split, y_pred))\n",
    "print(\"Classification Report:\")\n",
    "print(classification_report(y_val_split, y_pred))"
   ]
  },
  {
   "cell_type": "code",
   "execution_count": 8,
   "id": "0af0e10b",
   "metadata": {},
   "outputs": [
    {
     "name": "stdout",
     "output_type": "stream",
     "text": [
      "Accuracy: 0.8829791875736289\n",
      "Classification Report:\n",
      "                 precision    recall  f1-score   support\n",
      "\n",
      "     AMOUNT_DUE       0.99      1.00      1.00       158\n",
      "        BILL_TO       0.91      1.00      0.95       335\n",
      "          BUYER       0.97      1.00      0.98      1299\n",
      "     CONDITIONS       1.00      1.00      1.00       436\n",
      "           DATE       0.96      0.50      0.66      1993\n",
      "       DISCOUNT       1.00      1.00      1.00       495\n",
      "       DUE_DATE       0.53      1.00      0.70      1188\n",
      "        GST(1%)       0.85      0.89      0.87        45\n",
      "       GST(12%)       0.87      1.00      0.93        33\n",
      "       GST(18%)       0.96      0.98      0.97       121\n",
      "       GST(20%)       0.96      0.98      0.97        48\n",
      "        GST(5%)       0.29      0.37      0.33        43\n",
      "        GST(7%)       0.17      0.21      0.19        34\n",
      "        GST(9%)       0.47      0.26      0.34        68\n",
      "          GSTIN       1.00      1.00      1.00       253\n",
      "    GSTIN_BUYER       1.00      1.00      1.00       111\n",
      "   GSTIN_SELLER       1.00      1.00      1.00       199\n",
      "           NOTE       1.00      1.00      1.00      1058\n",
      "         NUMBER       0.91      0.92      0.92      1769\n",
      "          OTHER       1.00      0.28      0.44      1994\n",
      "PAYMENT_DETAILS       1.00      1.00      1.00       526\n",
      "      PO_NUMBER       1.00      1.00      1.00       288\n",
      " SELLER_ADDRESS       0.94      1.00      0.97      1631\n",
      "   SELLER_EMAIL       1.00      1.00      1.00       875\n",
      "    SELLER_NAME       1.00      1.00      1.00      1333\n",
      "    SELLER_SITE       1.00      1.00      1.00       261\n",
      "        SEND_TO       1.00      1.00      1.00       366\n",
      "      SUB_TOTAL       1.00      1.00      1.00      1335\n",
      "            TAX       1.00      1.00      1.00       770\n",
      "          TITLE       0.57      1.00      0.73      1521\n",
      "          TOTAL       1.00      1.00      1.00      1556\n",
      "    TOTAL_WORDS       1.00      1.00      1.00       777\n",
      "\n",
      "       accuracy                           0.88     22919\n",
      "      macro avg       0.89      0.89      0.87     22919\n",
      "   weighted avg       0.92      0.88      0.87     22919\n",
      "\n"
     ]
    }
   ],
   "source": [
    "svm = SVC(kernel='linear', class_weight='balanced') \n",
    "svm.fit(X_train_split, y_train_split)\n",
    "\n",
    "y_pred = svm.predict(X_val_split)\n",
    "\n",
    "print(\"Accuracy:\", accuracy_score(y_val_split, y_pred))\n",
    "print(\"Classification Report:\")\n",
    "print(classification_report(y_val_split, y_pred))"
   ]
  },
  {
   "cell_type": "code",
   "execution_count": 4,
   "id": "51bcfb2d0d0ffa14",
   "metadata": {
    "ExecuteTime": {
     "end_time": "2024-11-19T17:37:49.757636200Z",
     "start_time": "2024-11-19T17:26:14.398705500Z"
    },
    "collapsed": false
   },
   "outputs": [
    {
     "name": "stdout",
     "output_type": "stream",
     "text": [
      "Accuracy: 0.8720275753741438\n",
      "Classification Report:\n",
      "                 precision    recall  f1-score   support\n",
      "\n",
      "     AMOUNT_DUE       0.99      1.00      1.00       158\n",
      "        BILL_TO       0.91      1.00      0.95       335\n",
      "          BUYER       0.97      0.97      0.97      1299\n",
      "     CONDITIONS       1.00      1.00      1.00       436\n",
      "           DATE       0.71      0.70      0.71      1993\n",
      "       DISCOUNT       1.00      1.00      1.00       495\n",
      "       DUE_DATE       0.55      0.59      0.57      1188\n",
      "        GST(1%)       0.87      0.87      0.87        45\n",
      "       GST(12%)       0.86      0.94      0.90        33\n",
      "       GST(18%)       0.95      0.96      0.95       121\n",
      "       GST(20%)       0.94      0.92      0.93        48\n",
      "        GST(5%)       0.22      0.14      0.17        43\n",
      "        GST(7%)       0.14      0.12      0.13        34\n",
      "        GST(9%)       0.41      0.49      0.44        68\n",
      "          GSTIN       1.00      1.00      1.00       253\n",
      "    GSTIN_BUYER       1.00      1.00      1.00       111\n",
      "   GSTIN_SELLER       1.00      1.00      1.00       199\n",
      "           NOTE       1.00      1.00      1.00      1058\n",
      "         NUMBER       0.89      0.86      0.88      1769\n",
      "          OTHER       0.76      0.28      0.41      1994\n",
      "PAYMENT_DETAILS       1.00      1.00      1.00       526\n",
      "      PO_NUMBER       1.00      1.00      1.00       288\n",
      " SELLER_ADDRESS       0.94      1.00      0.97      1631\n",
      "   SELLER_EMAIL       1.00      1.00      1.00       875\n",
      "    SELLER_NAME       1.00      1.00      1.00      1333\n",
      "    SELLER_SITE       1.00      1.00      1.00       261\n",
      "        SEND_TO       1.00      1.00      1.00       366\n",
      "      SUB_TOTAL       1.00      1.00      1.00      1335\n",
      "            TAX       1.00      1.00      1.00       770\n",
      "          TITLE       0.57      1.00      0.73      1521\n",
      "          TOTAL       1.00      1.00      1.00      1556\n",
      "    TOTAL_WORDS       1.00      1.00      1.00       777\n",
      "\n",
      "       accuracy                           0.87     22919\n",
      "      macro avg       0.86      0.87      0.86     22919\n",
      "   weighted avg       0.88      0.87      0.86     22919\n",
      "\n"
     ]
    }
   ],
   "source": [
    "svm = SVC(kernel='poly', degree=3, C=5) \n",
    "svm.fit(X_train_split, y_train_split)\n",
    "\n",
    "y_pred = svm.predict(X_val_split)\n",
    "\n",
    "print(\"Accuracy:\", accuracy_score(y_val_split, y_pred))\n",
    "print(\"Classification Report:\")\n",
    "print(classification_report(y_val_split, y_pred))"
   ]
  },
  {
   "cell_type": "code",
   "execution_count": 10,
   "id": "1620df5ab5c27f18",
   "metadata": {
    "ExecuteTime": {
     "end_time": "2024-11-20T11:30:58.294364800Z",
     "start_time": "2024-11-20T11:09:30.104682400Z"
    },
    "collapsed": false
   },
   "outputs": [
    {
     "name": "stdout",
     "output_type": "stream",
     "text": [
      "Accuracy: 0.8506479340285352\n",
      "Classification Report:\n",
      "                 precision    recall  f1-score   support\n",
      "\n",
      "     AMOUNT_DUE       1.00      0.01      0.01       158\n",
      "        BILL_TO       0.91      1.00      0.95       335\n",
      "          BUYER       0.97      0.96      0.97      1299\n",
      "     CONDITIONS       1.00      1.00      1.00       436\n",
      "           DATE       0.67      0.73      0.70      1993\n",
      "       DISCOUNT       1.00      0.96      0.98       495\n",
      "       DUE_DATE       0.52      0.47      0.49      1188\n",
      "        GST(1%)       0.81      0.76      0.78        45\n",
      "       GST(12%)       0.67      0.12      0.21        33\n",
      "       GST(18%)       0.96      0.61      0.75       121\n",
      "       GST(20%)       0.60      0.06      0.11        48\n",
      "        GST(5%)       0.20      0.02      0.04        43\n",
      "        GST(7%)       0.11      0.03      0.05        34\n",
      "        GST(9%)       0.29      0.06      0.10        68\n",
      "          GSTIN       1.00      1.00      1.00       253\n",
      "    GSTIN_BUYER       1.00      1.00      1.00       111\n",
      "   GSTIN_SELLER       1.00      1.00      1.00       199\n",
      "           NOTE       1.00      1.00      1.00      1058\n",
      "         NUMBER       0.83      0.84      0.83      1769\n",
      "          OTHER       0.73      0.27      0.39      1994\n",
      "PAYMENT_DETAILS       1.00      1.00      1.00       526\n",
      "      PO_NUMBER       1.00      1.00      1.00       288\n",
      " SELLER_ADDRESS       0.94      1.00      0.97      1631\n",
      "   SELLER_EMAIL       1.00      1.00      1.00       875\n",
      "    SELLER_NAME       1.00      1.00      1.00      1333\n",
      "    SELLER_SITE       1.00      1.00      1.00       261\n",
      "        SEND_TO       1.00      1.00      1.00       366\n",
      "      SUB_TOTAL       1.00      0.99      1.00      1335\n",
      "            TAX       1.00      1.00      1.00       770\n",
      "          TITLE       0.57      1.00      0.73      1521\n",
      "          TOTAL       0.82      1.00      0.90      1556\n",
      "    TOTAL_WORDS       1.00      0.99      1.00       777\n",
      "\n",
      "       accuracy                           0.85     22919\n",
      "      macro avg       0.83      0.75      0.75     22919\n",
      "   weighted avg       0.86      0.85      0.83     22919\n",
      "\n"
     ]
    }
   ],
   "source": [
    "svm = SVC(kernel='rbf', gamma=5, C=5) \n",
    "svm.fit(X_train_split, y_train_split)\n",
    "\n",
    "y_pred = svm.predict(X_val_split)\n",
    "\n",
    "print(\"Accuracy:\", accuracy_score(y_val_split, y_pred))\n",
    "print(\"Classification Report:\")\n",
    "print(classification_report(y_val_split, y_pred))"
   ]
  },
  {
   "cell_type": "code",
   "execution_count": 11,
   "id": "17f3a94d725f294a",
   "metadata": {
    "ExecuteTime": {
     "end_time": "2024-11-20T11:55:07.806861400Z",
     "start_time": "2024-11-20T11:51:15.983976500Z"
    },
    "collapsed": false
   },
   "outputs": [],
   "source": [
    "from sklearn.ensemble import RandomForestClassifier\n",
    "\n",
    "rf = RandomForestClassifier(n_estimators=100, random_state=42)\n",
    "rf.fit(X_train_split, y_train_split)\n",
    "\n",
    "y_pred = rf.predict(X_val_split)"
   ]
  },
  {
   "cell_type": "code",
   "execution_count": 12,
   "id": "ae0b80fea48acd9f",
   "metadata": {
    "ExecuteTime": {
     "end_time": "2024-11-20T12:53:13.375446600Z",
     "start_time": "2024-11-20T12:53:12.979630800Z"
    },
    "collapsed": false
   },
   "outputs": [
    {
     "name": "stdout",
     "output_type": "stream",
     "text": [
      "Accuracy: 0.8741219075875911\n",
      "Classification Report:\n",
      "                 precision    recall  f1-score   support\n",
      "\n",
      "     AMOUNT_DUE       0.99      1.00      1.00       158\n",
      "        BILL_TO       0.91      1.00      0.95       335\n",
      "          BUYER       0.97      0.97      0.97      1299\n",
      "     CONDITIONS       1.00      1.00      1.00       436\n",
      "           DATE       0.71      0.69      0.70      1993\n",
      "       DISCOUNT       1.00      1.00      1.00       495\n",
      "       DUE_DATE       0.54      0.59      0.56      1188\n",
      "        GST(1%)       0.84      0.84      0.84        45\n",
      "       GST(12%)       1.00      0.97      0.98        33\n",
      "       GST(18%)       0.98      0.99      0.99       121\n",
      "       GST(20%)       0.98      0.98      0.98        48\n",
      "        GST(5%)       0.45      0.21      0.29        43\n",
      "        GST(7%)       0.17      0.15      0.16        34\n",
      "        GST(9%)       0.46      0.65      0.54        68\n",
      "          GSTIN       1.00      1.00      1.00       253\n",
      "    GSTIN_BUYER       1.00      1.00      1.00       111\n",
      "   GSTIN_SELLER       1.00      1.00      1.00       199\n",
      "           NOTE       1.00      1.00      1.00      1058\n",
      "         NUMBER       0.92      0.87      0.89      1769\n",
      "          OTHER       0.77      0.29      0.42      1994\n",
      "PAYMENT_DETAILS       1.00      1.00      1.00       526\n",
      "      PO_NUMBER       1.00      1.00      1.00       288\n",
      " SELLER_ADDRESS       0.94      1.00      0.97      1631\n",
      "   SELLER_EMAIL       1.00      1.00      1.00       875\n",
      "    SELLER_NAME       1.00      1.00      1.00      1333\n",
      "    SELLER_SITE       1.00      1.00      1.00       261\n",
      "        SEND_TO       1.00      1.00      1.00       366\n",
      "      SUB_TOTAL       1.00      1.00      1.00      1335\n",
      "            TAX       1.00      1.00      1.00       770\n",
      "          TITLE       0.57      1.00      0.73      1521\n",
      "          TOTAL       1.00      1.00      1.00      1556\n",
      "    TOTAL_WORDS       1.00      1.00      1.00       777\n",
      "\n",
      "       accuracy                           0.87     22919\n",
      "      macro avg       0.88      0.88      0.87     22919\n",
      "   weighted avg       0.88      0.87      0.87     22919\n",
      "\n"
     ]
    }
   ],
   "source": [
    "print(\"Accuracy:\", accuracy_score(y_val_split, y_pred))\n",
    "\n",
    "print(\"Classification Report:\")\n",
    "print(classification_report(y_val_split, y_pred))"
   ]
  },
  {
   "cell_type": "code",
   "execution_count": 13,
   "id": "9c86311e166a75ce",
   "metadata": {
    "ExecuteTime": {
     "end_time": "2024-11-20T13:51:04.179107700Z",
     "start_time": "2024-11-20T13:50:48.772418100Z"
    },
    "collapsed": false
   },
   "outputs": [
    {
     "name": "stdout",
     "output_type": "stream",
     "text": [
      "Accuracy: 0.8818447576246782\n",
      "Classification Report:\n",
      "                 precision    recall  f1-score   support\n",
      "\n",
      "     AMOUNT_DUE       0.99      1.00      1.00       158\n",
      "        BILL_TO       0.91      1.00      0.95       335\n",
      "          BUYER       0.97      1.00      0.98      1299\n",
      "     CONDITIONS       1.00      1.00      1.00       436\n",
      "           DATE       0.81      0.62      0.70      1993\n",
      "       DISCOUNT       1.00      1.00      1.00       495\n",
      "       DUE_DATE       0.54      0.80      0.65      1188\n",
      "        GST(1%)       0.81      0.47      0.59        45\n",
      "       GST(12%)       0.85      1.00      0.92        33\n",
      "       GST(18%)       0.95      1.00      0.98       121\n",
      "       GST(20%)       0.94      0.98      0.96        48\n",
      "        GST(5%)       0.30      0.07      0.11        43\n",
      "        GST(7%)       0.15      0.06      0.09        34\n",
      "        GST(9%)       0.41      0.76      0.53        68\n",
      "          GSTIN       1.00      1.00      1.00       253\n",
      "    GSTIN_BUYER       1.00      1.00      1.00       111\n",
      "   GSTIN_SELLER       1.00      1.00      1.00       199\n",
      "           NOTE       1.00      1.00      1.00      1058\n",
      "         NUMBER       0.91      0.91      0.91      1769\n",
      "          OTHER       0.97      0.28      0.43      1994\n",
      "PAYMENT_DETAILS       1.00      1.00      1.00       526\n",
      "      PO_NUMBER       1.00      1.00      1.00       288\n",
      " SELLER_ADDRESS       0.94      1.00      0.97      1631\n",
      "   SELLER_EMAIL       1.00      1.00      1.00       875\n",
      "    SELLER_NAME       1.00      1.00      1.00      1333\n",
      "    SELLER_SITE       1.00      1.00      1.00       261\n",
      "        SEND_TO       1.00      1.00      1.00       366\n",
      "      SUB_TOTAL       1.00      1.00      1.00      1335\n",
      "            TAX       1.00      1.00      1.00       770\n",
      "          TITLE       0.57      1.00      0.73      1521\n",
      "          TOTAL       1.00      1.00      1.00      1556\n",
      "    TOTAL_WORDS       1.00      1.00      1.00       777\n",
      "\n",
      "       accuracy                           0.88     22919\n",
      "      macro avg       0.88      0.87      0.86     22919\n",
      "   weighted avg       0.91      0.88      0.87     22919\n",
      "\n"
     ]
    }
   ],
   "source": [
    "from sklearn.linear_model import LogisticRegression\n",
    "from sklearn.metrics import accuracy_score, classification_report\n",
    "\n",
    "\n",
    "logreg = LogisticRegression(max_iter=1000, solver='lbfgs', random_state=42)\n",
    "\n",
    "logreg.fit(X_train_split, y_train_split)\n",
    "\n",
    "y_pred = logreg.predict(X_val_split)\n",
    "\n",
    "print(\"Accuracy:\", accuracy_score(y_val_split, y_pred))\n",
    "print(\"Classification Report:\")\n",
    "print(classification_report(y_val_split, y_pred))"
   ]
  },
  {
   "cell_type": "code",
   "execution_count": 37,
   "id": "f1bb5165",
   "metadata": {},
   "outputs": [
    {
     "name": "stdout",
     "output_type": "stream",
     "text": [
      "Original class distribution: Counter({'OTHER': 8006, 'DATE': 7807, 'NUMBER': 7031, 'SELLER_ADDRESS': 6569, 'TOTAL': 6444, 'TITLE': 5879, 'SELLER_NAME': 5467, 'SUB_TOTAL': 5462, 'BUYER': 4901, 'DUE_DATE': 4610, 'NOTE': 4142, 'SELLER_EMAIL': 3525, 'TOTAL_WORDS': 3223, 'TAX': 3030, 'PAYMENT_DETAILS': 2074, 'CONDITIONS': 1964, 'DISCOUNT': 1905, 'SEND_TO': 1434, 'BILL_TO': 1265, 'GSTIN': 1147, 'SELLER_SITE': 1139, 'PO_NUMBER': 1112, 'GSTIN_SELLER': 801, 'AMOUNT_DUE': 641, 'GSTIN_BUYER': 489, 'GST(18%)': 479, 'GST(9%)': 332, 'GST(12%)': 167, 'GST(7%)': 166, 'GST(5%)': 157, 'GST(1%)': 155, 'GST(20%)': 152})\n",
      "Resampled class distribution: Counter({'OTHER': 8006, 'DATE': 7807, 'NUMBER': 7031, 'SELLER_ADDRESS': 6569, 'TOTAL': 6444, 'TITLE': 5879, 'SELLER_NAME': 5467, 'SUB_TOTAL': 5462, 'BUYER': 4901, 'DUE_DATE': 4610, 'NOTE': 4142, 'SELLER_EMAIL': 3525, 'TOTAL_WORDS': 3223, 'TAX': 3030, 'PAYMENT_DETAILS': 2074, 'CONDITIONS': 1964, 'DISCOUNT': 1905, 'SEND_TO': 1434, 'BILL_TO': 1265, 'GSTIN': 1147, 'SELLER_SITE': 1139, 'PO_NUMBER': 1112, 'GST(7%)': 1000, 'GST(5%)': 1000, 'GST(9%)': 1000, 'GST(1%)': 1000, 'GSTIN_SELLER': 801, 'AMOUNT_DUE': 641, 'GSTIN_BUYER': 489, 'GST(18%)': 479, 'GST(12%)': 167, 'GST(20%)': 152})\n"
     ]
    }
   ],
   "source": [
    "from imblearn.over_sampling import RandomOverSampler\n",
    "from sklearn.feature_extraction.text import TfidfVectorizer\n",
    "from sklearn.model_selection import train_test_split\n",
    "from collections import Counter\n",
    "import pandas as pd\n",
    "import numpy as np\n",
    "\n",
    "# Load dataset\n",
    "df = pd.read_csv('train_data.csv')\n",
    "X_train = df['Text']  # Raw text\n",
    "y_train = df['Label']  # Labels\n",
    "\n",
    "# Split data into train and validation sets\n",
    "X_train_split, X_val_split, y_train_split, y_val_split = train_test_split(X_train, y_train, test_size=0.2, random_state=42)\n",
    "\n",
    "# Print original class distribution\n",
    "print(f\"Original class distribution: {Counter(y_train_split)}\")\n",
    "\n",
    "# Define the sampling strategy for selected classes\n",
    "sampling_strategy = {\n",
    "    'GST(5%)': 1000,\n",
    "    'GST(7%)': 1000,\n",
    "    'GST(1%)': 1000,\n",
    "    'GST(9%)': 1000,\n",
    "}\n",
    "\n",
    "# Reshape X_train_split to a 2D array for RandomOverSampler\n",
    "X_train_split_reshaped = np.array(X_train_split).reshape(-1, 1)\n",
    "\n",
    "# Apply oversampling\n",
    "ros = RandomOverSampler(sampling_strategy=sampling_strategy, random_state=42)\n",
    "X_resampled, y_resampled = ros.fit_resample(X_train_split_reshaped, y_train_split)\n",
    "\n",
    "# Reshape X_resampled back to 1D array for vectorization\n",
    "X_resampled = X_resampled.ravel()\n",
    "\n",
    "# Print resampled class distribution\n",
    "print(f\"Resampled class distribution: {Counter(y_resampled)}\")\n",
    "\n",
    "# Vectorize the resampled data\n",
    "vectorizer = TfidfVectorizer(stop_words='english', max_features=5000)\n",
    "X_train_vec = vectorizer.fit_transform(X_resampled)\n",
    "\n",
    "# Vectorize the validation data\n",
    "X_val_vec = vectorizer.transform(X_val_split)\n",
    "\n",
    "# Now X_train_vec and y_resampled are ready for training your classifier\n"
   ]
  },
  {
   "cell_type": "code",
   "execution_count": 33,
   "id": "6ab8afa8",
   "metadata": {},
   "outputs": [
    {
     "name": "stdout",
     "output_type": "stream",
     "text": [
      "Accuracy: 0.8811466468868624\n",
      "Classification Report:\n",
      "                 precision    recall  f1-score   support\n",
      "\n",
      "     AMOUNT_DUE       0.99      1.00      1.00       158\n",
      "        BILL_TO       0.91      1.00      0.95       335\n",
      "          BUYER       0.97      0.99      0.98      1299\n",
      "     CONDITIONS       1.00      1.00      1.00       436\n",
      "           DATE       0.81      0.62      0.70      1993\n",
      "       DISCOUNT       1.00      1.00      1.00       495\n",
      "       DUE_DATE       0.54      0.80      0.65      1188\n",
      "        GST(1%)       0.87      0.87      0.87        45\n",
      "       GST(12%)       0.85      0.88      0.87        33\n",
      "       GST(18%)       0.95      0.99      0.97       121\n",
      "       GST(20%)       0.94      0.92      0.93        48\n",
      "        GST(5%)       0.21      0.23      0.22        43\n",
      "        GST(7%)       0.17      0.24      0.20        34\n",
      "        GST(9%)       0.39      0.26      0.32        68\n",
      "          GSTIN       1.00      1.00      1.00       253\n",
      "    GSTIN_BUYER       1.00      1.00      1.00       111\n",
      "   GSTIN_SELLER       1.00      1.00      1.00       199\n",
      "           NOTE       1.00      1.00      1.00      1058\n",
      "         NUMBER       0.91      0.91      0.91      1769\n",
      "          OTHER       0.99      0.28      0.44      1994\n",
      "PAYMENT_DETAILS       1.00      1.00      1.00       526\n",
      "      PO_NUMBER       1.00      1.00      1.00       288\n",
      " SELLER_ADDRESS       0.94      1.00      0.97      1631\n",
      "   SELLER_EMAIL       1.00      1.00      1.00       875\n",
      "    SELLER_NAME       0.99      1.00      1.00      1333\n",
      "    SELLER_SITE       1.00      1.00      1.00       261\n",
      "        SEND_TO       1.00      1.00      1.00       366\n",
      "      SUB_TOTAL       1.00      1.00      1.00      1335\n",
      "            TAX       1.00      1.00      1.00       770\n",
      "          TITLE       0.57      1.00      0.72      1521\n",
      "          TOTAL       1.00      1.00      1.00      1556\n",
      "    TOTAL_WORDS       1.00      1.00      1.00       777\n",
      "\n",
      "       accuracy                           0.88     22919\n",
      "      macro avg       0.88      0.87      0.87     22919\n",
      "   weighted avg       0.91      0.88      0.87     22919\n",
      "\n"
     ]
    }
   ],
   "source": [
    "logreg = LogisticRegression(max_iter=1000, solver='lbfgs', random_state=42)\n",
    "\n",
    "logreg.fit(X_train_vec, y_resampled)\n",
    "\n",
    "y_pred = logreg.predict(X_val_vec)\n",
    "\n",
    "print(\"Accuracy:\", accuracy_score(y_val_split, y_pred))\n",
    "print(\"Classification Report:\")\n",
    "print(classification_report(y_val_split, y_pred))"
   ]
  },
  {
   "cell_type": "code",
   "execution_count": 39,
   "id": "fc1491ae924fd985",
   "metadata": {
    "ExecuteTime": {
     "end_time": "2024-11-20T13:55:42.772585Z",
     "start_time": "2024-11-20T13:55:42.320863800Z"
    },
    "collapsed": false
   },
   "outputs": [
    {
     "name": "stdout",
     "output_type": "stream",
     "text": [
      "['INVOICE', 'East Repair Inc.\\n1912 Harvest Lane\\nNew York, NY 12210', 'BILLTO SHIPTO INVOICE # us-001\\nJohn Smith John Smith INVOICE DATE 1102/2019\\n2 Court Square 3787 Pineview Drive poe', 'New York, NY 12210 Cambridge, MA 12210 i 2312/2019\\nDUE DATE 26102/2019', 'ay DESCRIPTION UNIT PRICE AMOUNT', '1 Front and rear brake cables 100.00 100.00', '2 Newset of pedal arms 15.00 30.00', '3 Labor Shrs 5.00 15.00', 'Subtotal 145.00', 'Sales Tax 6.25% 9.06', 'TOTAL $154.06', 'Shank you', 'Smith', 'TERMS & CONDITIONS', 'Payment is due within 15 days.', 'Please make checks payable to: East Repair Inc.\\n']\n",
      "['TITLE' 'BUYER' 'OTHER' 'DUE_DATE' 'BUYER' 'BUYER' 'BUYER' 'BUYER'\n",
      " 'BUYER' 'TAX' 'TOTAL' 'BUYER' 'BUYER' 'CONDITIONS' 'BUYER' 'BUYER']\n"
     ]
    }
   ],
   "source": [
    "image = pytesseract_image_to_string('notebooks\\invoice-template-us-neat-750px.png')\n",
    "\n",
    "image_vec = vectorizer.transform(image)\n",
    "\n",
    "print(image)\n",
    "print(logreg.predict(image_vec))"
   ]
  },
  {
   "cell_type": "code",
   "execution_count": 41,
   "id": "1c1c2cd0f81a5538",
   "metadata": {
    "ExecuteTime": {
     "end_time": "2024-11-20T17:48:32.592688600Z",
     "start_time": "2024-11-20T17:46:50.272622100Z"
    },
    "collapsed": false
   },
   "outputs": [
    {
     "name": "stdout",
     "output_type": "stream",
     "text": [
      "Coped 400 files to invoices_dataset_final/400\n",
      "Coped 9600 files to invoices_dataset_final/train\n"
     ]
    }
   ],
   "source": [
    "import os\n",
    "import shutil\n",
    "\n",
    "source_folder = 'notebooks\\invoices_dataset_final\\Annotations\\Original_Format'\n",
    "destination_folder = 'invoices_dataset_final/400'\n",
    "destination_folder_train = 'invoices_dataset_final/train'\n",
    "\n",
    "if not os.path.exists(destination_folder):\n",
    "    os.makedirs(destination_folder)\n",
    "    \n",
    "if not os.path.exists(destination_folder_train):\n",
    "    os.makedirs(destination_folder_train)\n",
    "\n",
    "files = [f for f in os.listdir(source_folder) if f.endswith('.json')]\n",
    "\n",
    "files_to_move = files[-400:]\n",
    "files_to_train = files[:-400]\n",
    "\n",
    "for file in files_to_move:\n",
    "    source_path = os.path.join(source_folder, file)\n",
    "    destination_path = os.path.join(destination_folder, file)\n",
    "    shutil.copy(source_path, destination_path)\n",
    "    \n",
    "for file in files_to_train:\n",
    "    source_path = os.path.join(source_folder, file)\n",
    "    destination_path = os.path.join(destination_folder_train, file)\n",
    "    shutil.copy(source_path, destination_path)\n",
    "\n",
    "print(f\"Coped {len(files_to_move)} files to {destination_folder}\")\n",
    "print(f\"Coped {len(files_to_train)} files to {destination_folder_train}\")\n"
   ]
  },
  {
   "cell_type": "code",
   "execution_count": 42,
   "id": "e493e012",
   "metadata": {},
   "outputs": [],
   "source": [
    "import os\n",
    "\n",
    "def extract_json_data_from_dir(json_path):\n",
    "    X_train = []\n",
    "    y_train = []\n",
    "\n",
    "    def extract_data_from_json(json_file):\n",
    "        with open(json_file, 'r') as f:\n",
    "            data = json.load(f)\n",
    "            \n",
    "        for label, content in data.items():\n",
    "            if isinstance(content, dict) and 'text' in content:\n",
    "                text = content['text'].split('\\n')[0]\n",
    "                X_train.append(text)\n",
    "                y_train.append(label)\n",
    "            elif isinstance(content, list):\n",
    "                for item in content:\n",
    "                    if isinstance(item, dict) and 'text' in item:\n",
    "                        text = item['text'].split('\\n')[0]\n",
    "                        X_train.append(text)\n",
    "                        y_train.append(label)\n",
    "\n",
    "    # Iterate over all the JSON files in the folder\n",
    "    for filename in os.listdir(json_path):\n",
    "        if filename.endswith('.json'):\n",
    "            json_file = os.path.join(json_path, filename)\n",
    "            extract_data_from_json(json_file)\n",
    "\n",
    "    return X_train, y_train"
   ]
  },
  {
   "cell_type": "code",
   "execution_count": 43,
   "id": "7b3e26cc",
   "metadata": {},
   "outputs": [],
   "source": [
    "X_train_1, y_train_1 = extract_json_data_from_dir('notebooks\\\\invoices_dataset_final\\\\train')\n",
    "X_val_1, y_val_1 = extract_json_data_from_dir('notebooks\\\\invoices_dataset_final\\\\400')"
   ]
  },
  {
   "cell_type": "code",
   "execution_count": 44,
   "id": "07e9aef0",
   "metadata": {},
   "outputs": [],
   "source": [
    "from sklearn.feature_extraction.text import TfidfVectorizer\n",
    "\n",
    "vectorizer = TfidfVectorizer(stop_words='english', max_features=5000)\n",
    "X_train_1_vec = vectorizer.fit_transform(X_train_1)\n",
    "X_val_1_vec = vectorizer.transform(X_val_1)"
   ]
  },
  {
   "cell_type": "code",
   "execution_count": 45,
   "id": "c80a07f6e56812f7",
   "metadata": {
    "collapsed": false
   },
   "outputs": [
    {
     "name": "stdout",
     "output_type": "stream",
     "text": [
      "Accuracy: 0.7673076923076924\n",
      "Classification Report:\n",
      "                 precision    recall  f1-score   support\n",
      "\n",
      "          BUYER       0.34      0.99      0.51       400\n",
      "     CONDITIONS       1.00      1.00      1.00       200\n",
      "           DATE       0.91      0.65      0.76       400\n",
      "       DUE_DATE       0.55      0.87      0.68       200\n",
      "          GSTIN       0.50      1.00      0.67       200\n",
      "   GSTIN_SELLER       0.00      0.00      0.00       200\n",
      "           NOTE       1.00      1.00      1.00       200\n",
      "         NUMBER       0.92      0.90      0.91       400\n",
      "          OTHER       0.00      0.00      0.00       400\n",
      "PAYMENT_DETAILS       1.00      1.00      1.00       200\n",
      " SELLER_ADDRESS       1.00      1.00      1.00       200\n",
      "   SELLER_EMAIL       1.00      1.00      1.00       400\n",
      "    SELLER_NAME       0.00      0.00      0.00       400\n",
      "    SELLER_SITE       1.00      1.00      1.00       200\n",
      "        SEND_TO       1.00      1.00      1.00       200\n",
      "      SUB_TOTAL       1.00      1.00      1.00       200\n",
      "          TITLE       0.00      0.00      0.00         0\n",
      "          TOTAL       1.00      1.00      1.00       400\n",
      "    TOTAL_WORDS       1.00      1.00      1.00       400\n",
      "\n",
      "       accuracy                           0.77      5200\n",
      "      macro avg       0.70      0.76      0.71      5200\n",
      "   weighted avg       0.71      0.77      0.72      5200\n",
      "\n"
     ]
    },
    {
     "name": "stderr",
     "output_type": "stream",
     "text": [
      "C:\\Users\\vshug\\workshop\\SimpleClassifierForDocs\\.venv\\lib\\site-packages\\sklearn\\metrics\\_classification.py:1531: UndefinedMetricWarning: Precision is ill-defined and being set to 0.0 in labels with no predicted samples. Use `zero_division` parameter to control this behavior.\n",
      "  _warn_prf(average, modifier, f\"{metric.capitalize()} is\", len(result))\n",
      "C:\\Users\\vshug\\workshop\\SimpleClassifierForDocs\\.venv\\lib\\site-packages\\sklearn\\metrics\\_classification.py:1531: UndefinedMetricWarning: Recall is ill-defined and being set to 0.0 in labels with no true samples. Use `zero_division` parameter to control this behavior.\n",
      "  _warn_prf(average, modifier, f\"{metric.capitalize()} is\", len(result))\n",
      "C:\\Users\\vshug\\workshop\\SimpleClassifierForDocs\\.venv\\lib\\site-packages\\sklearn\\metrics\\_classification.py:1531: UndefinedMetricWarning: Precision is ill-defined and being set to 0.0 in labels with no predicted samples. Use `zero_division` parameter to control this behavior.\n",
      "  _warn_prf(average, modifier, f\"{metric.capitalize()} is\", len(result))\n",
      "C:\\Users\\vshug\\workshop\\SimpleClassifierForDocs\\.venv\\lib\\site-packages\\sklearn\\metrics\\_classification.py:1531: UndefinedMetricWarning: Recall is ill-defined and being set to 0.0 in labels with no true samples. Use `zero_division` parameter to control this behavior.\n",
      "  _warn_prf(average, modifier, f\"{metric.capitalize()} is\", len(result))\n",
      "C:\\Users\\vshug\\workshop\\SimpleClassifierForDocs\\.venv\\lib\\site-packages\\sklearn\\metrics\\_classification.py:1531: UndefinedMetricWarning: Precision is ill-defined and being set to 0.0 in labels with no predicted samples. Use `zero_division` parameter to control this behavior.\n",
      "  _warn_prf(average, modifier, f\"{metric.capitalize()} is\", len(result))\n",
      "C:\\Users\\vshug\\workshop\\SimpleClassifierForDocs\\.venv\\lib\\site-packages\\sklearn\\metrics\\_classification.py:1531: UndefinedMetricWarning: Recall is ill-defined and being set to 0.0 in labels with no true samples. Use `zero_division` parameter to control this behavior.\n",
      "  _warn_prf(average, modifier, f\"{metric.capitalize()} is\", len(result))\n"
     ]
    }
   ],
   "source": [
    "from sklearn.linear_model import LogisticRegression\n",
    "from sklearn.metrics import accuracy_score, classification_report\n",
    "\n",
    "logreg_1 = LogisticRegression(max_iter=1000, solver='lbfgs', random_state=42)\n",
    "\n",
    "logreg_1.fit(X_train_1_vec, y_train_1)\n",
    "\n",
    "y_pred = logreg_1.predict(X_val_1_vec)\n",
    "\n",
    "\n",
    "print(\"Accuracy:\", accuracy_score(y_val_1, y_pred))\n",
    "print(\"Classification Report:\")\n",
    "print(classification_report(y_val_1, y_pred))"
   ]
  },
  {
   "cell_type": "code",
   "execution_count": 46,
   "id": "6e1e114a",
   "metadata": {},
   "outputs": [
    {
     "name": "stdout",
     "output_type": "stream",
     "text": [
      "Accuracy: 0.7648076923076923\n",
      "Classification Report:\n",
      "                 precision    recall  f1-score   support\n",
      "\n",
      "          BUYER       0.34      0.99      0.51       400\n",
      "     CONDITIONS       1.00      1.00      1.00       200\n",
      "           DATE       0.95      0.58      0.72       400\n",
      "       DUE_DATE       0.53      0.94      0.67       200\n",
      "          GSTIN       0.50      1.00      0.67       200\n",
      "   GSTIN_SELLER       0.00      0.00      0.00       200\n",
      "           NOTE       1.00      1.00      1.00       200\n",
      "         NUMBER       0.93      0.90      0.91       400\n",
      "          OTHER       0.00      0.00      0.00       400\n",
      "PAYMENT_DETAILS       1.00      1.00      1.00       200\n",
      " SELLER_ADDRESS       1.00      1.00      1.00       200\n",
      "   SELLER_EMAIL       1.00      1.00      1.00       400\n",
      "    SELLER_NAME       0.00      0.00      0.00       400\n",
      "    SELLER_SITE       1.00      1.00      1.00       200\n",
      "        SEND_TO       1.00      1.00      1.00       200\n",
      "      SUB_TOTAL       1.00      1.00      1.00       200\n",
      "          TITLE       0.00      0.00      0.00         0\n",
      "          TOTAL       1.00      1.00      1.00       400\n",
      "    TOTAL_WORDS       1.00      1.00      1.00       400\n",
      "\n",
      "       accuracy                           0.76      5200\n",
      "      macro avg       0.70      0.76      0.71      5200\n",
      "   weighted avg       0.71      0.76      0.72      5200\n",
      "\n"
     ]
    },
    {
     "name": "stderr",
     "output_type": "stream",
     "text": [
      "C:\\Users\\vshug\\workshop\\SimpleClassifierForDocs\\.venv\\lib\\site-packages\\sklearn\\metrics\\_classification.py:1531: UndefinedMetricWarning: Precision is ill-defined and being set to 0.0 in labels with no predicted samples. Use `zero_division` parameter to control this behavior.\n",
      "  _warn_prf(average, modifier, f\"{metric.capitalize()} is\", len(result))\n",
      "C:\\Users\\vshug\\workshop\\SimpleClassifierForDocs\\.venv\\lib\\site-packages\\sklearn\\metrics\\_classification.py:1531: UndefinedMetricWarning: Recall is ill-defined and being set to 0.0 in labels with no true samples. Use `zero_division` parameter to control this behavior.\n",
      "  _warn_prf(average, modifier, f\"{metric.capitalize()} is\", len(result))\n",
      "C:\\Users\\vshug\\workshop\\SimpleClassifierForDocs\\.venv\\lib\\site-packages\\sklearn\\metrics\\_classification.py:1531: UndefinedMetricWarning: Precision is ill-defined and being set to 0.0 in labels with no predicted samples. Use `zero_division` parameter to control this behavior.\n",
      "  _warn_prf(average, modifier, f\"{metric.capitalize()} is\", len(result))\n",
      "C:\\Users\\vshug\\workshop\\SimpleClassifierForDocs\\.venv\\lib\\site-packages\\sklearn\\metrics\\_classification.py:1531: UndefinedMetricWarning: Recall is ill-defined and being set to 0.0 in labels with no true samples. Use `zero_division` parameter to control this behavior.\n",
      "  _warn_prf(average, modifier, f\"{metric.capitalize()} is\", len(result))\n",
      "C:\\Users\\vshug\\workshop\\SimpleClassifierForDocs\\.venv\\lib\\site-packages\\sklearn\\metrics\\_classification.py:1531: UndefinedMetricWarning: Precision is ill-defined and being set to 0.0 in labels with no predicted samples. Use `zero_division` parameter to control this behavior.\n",
      "  _warn_prf(average, modifier, f\"{metric.capitalize()} is\", len(result))\n",
      "C:\\Users\\vshug\\workshop\\SimpleClassifierForDocs\\.venv\\lib\\site-packages\\sklearn\\metrics\\_classification.py:1531: UndefinedMetricWarning: Recall is ill-defined and being set to 0.0 in labels with no true samples. Use `zero_division` parameter to control this behavior.\n",
      "  _warn_prf(average, modifier, f\"{metric.capitalize()} is\", len(result))\n"
     ]
    }
   ],
   "source": [
    "from sklearn.svm import SVC\n",
    "\n",
    "svm = SVC(kernel='linear') \n",
    "svm.fit(X_train_1_vec, y_train_1)\n",
    "\n",
    "y_pred = svm.predict(X_val_1_vec)\n",
    "\n",
    "print(\"Accuracy:\", accuracy_score(y_val_1, y_pred))\n",
    "print(\"Classification Report:\")\n",
    "print(classification_report(y_val_1, y_pred))"
   ]
  },
  {
   "cell_type": "code",
   "execution_count": 47,
   "id": "26494cdc",
   "metadata": {},
   "outputs": [
    {
     "name": "stdout",
     "output_type": "stream",
     "text": [
      "[{'text': 'INVOICE # 8287-236 Date:', 'bbox': [[41, 105], [153, 114]]}, {'text': 'Date: 19-Jun-2012 Due', 'bbox': [[41, 132], [139, 141]]}, {'text': 'Due Date :', 'bbox': [[41, 155], [98, 164]]}, {'text': ': 13-Dec-2000', 'bbox': [[95, 145], [98, 173]]}, {'text': '13-Dec-2000 Buyer', 'bbox': [[103, 155], [172, 164]]}, {'text': 'Buyer :Cynthia Phillips 49716', 'bbox': [[37, 194], [167, 205]]}, {'text': '49716 Vega Gardens Suite 257 Jamesberg,', 'bbox': [[36, 208], [209, 217]]}, {'text': 'Jamesberg, IN 27386 US Tel:+(433)412-1127', 'bbox': [[36, 222], [174, 232]]}, {'text': 'Tel:+(433)412-1127 Email:saragray@example.org', 'bbox': [[36, 237], [142, 248]]}, {'text': 'Email:saragray@example.org Site:https:/iwest.biz/', 'bbox': [[37, 251], [204, 263]]}, {'text': 'Site:https:/iwest.biz/ Item', 'bbox': [[37, 265], [152, 277]]}, {'text': 'Item Stock', 'bbox': [[47, 459], [76, 471]]}, {'text': 'Stock site. Family', 'bbox': [[46, 477], [106, 486]]}, {'text': 'Family plan. Opportunity', 'bbox': [[47, 494], [116, 507]]}, {'text': 'Opportunity hair represent. ‘Thank', 'bbox': [[46, 513], [211, 525]]}, {'text': '‘Thank you for your business! Yoder', 'bbox': [[36, 603], [203, 612]]}, {'text': 'Yoder LLC GSTIN:', 'bbox': [[337, 46], [396, 55]]}, {'text': 'GSTIN: GSTIN4321AAD22 Address:010', 'bbox': [[389, 59], [535, 68]]}, {'text': 'Address:010 Jeffrey Glens Port', 'bbox': [[339, 72], [489, 81]]}, {'text': 'Port Toddport, DC 16594 US Price', 'bbox': [[339, 86], [499, 96]]}, {'text': 'Price Quantity Amount', 'bbox': [[297, 448], [444, 481]]}, {'text': 'Amount 6.58', 'bbox': [[497, 459], [552, 471]]}, {'text': '6.58 2.00 13.16 32.28', 'bbox': [[296, 476], [541, 486]]}, {'text': '32.28 6.00 193.68 59.49', 'bbox': [[296, 494], [545, 504]]}, {'text': '59.49 6.00 356.94', 'bbox': [[296, 512], [545, 522]]}]\n"
     ]
    }
   ],
   "source": [
    "import pytesseract\n",
    "import cv2\n",
    "\n",
    "def pytesseract_image_to_string_with_bboxes(image_path):\n",
    "    pytesseract.pytesseract.tesseract_cmd = r'C:\\Program Files\\Tesseract-OCR\\tesseract.exe'\n",
    "\n",
    "    image = cv2.imread(image_path)\n",
    "\n",
    "    gray = cv2.cvtColor(image, cv2.COLOR_BGR2GRAY)\n",
    "\n",
    "    data = pytesseract.image_to_data(gray, output_type=pytesseract.Output.DICT)\n",
    "\n",
    "    result = []\n",
    "\n",
    "    block_text = []\n",
    "    block_bboxes = []\n",
    "\n",
    "    last_top = None\n",
    "    last_bottom = None\n",
    "    last_left = None\n",
    "    last_right = None\n",
    "    \n",
    "    # Iterate through the data and group words into blocks\n",
    "    for i in range(len(data['text'])):\n",
    "        text = data['text'][i].strip()\n",
    "        if text:  # Only process non-empty text\n",
    "            # Extract the bounding box coordinates\n",
    "            x, y, w, h = data['left'][i], data['top'][i], data['width'][i], data['height'][i]\n",
    "            bbox = [[x, y], [x + w, y + h]]\n",
    "\n",
    "            # Add the word and its bbox to the temporary block lists\n",
    "            block_text.append(text)\n",
    "            block_bboxes.append(bbox)\n",
    "\n",
    "            # Check if the current word belongs to the same line (check vertical distance)\n",
    "            if last_top is None or abs(last_top - y) < 10:\n",
    "                last_top = y\n",
    "                last_bottom = y + h\n",
    "                last_left = min(last_left or x, x)\n",
    "                last_right = max(last_right or (x + w), x + w)\n",
    "            else:\n",
    "                # If the current word is far from the last one, treat it as a new block\n",
    "                if block_text:\n",
    "                    # Create the combined block string and its bbox\n",
    "                    combined_text = ' '.join(block_text)\n",
    "                    combined_bbox = [[last_left, last_top], [last_right, last_bottom]]\n",
    "                    result.append({\"text\": combined_text, \"bbox\": combined_bbox})\n",
    "                # Start a new block\n",
    "                block_text = [text]\n",
    "                block_bboxes = [bbox]\n",
    "                last_top = y\n",
    "                last_bottom = y + h\n",
    "                last_left = x\n",
    "                last_right = x + w\n",
    "\n",
    "    if block_text:\n",
    "        combined_text = ' '.join(block_text)\n",
    "        combined_bbox = [[last_left, last_top], [last_right, last_bottom]]\n",
    "        result.append({\"text\": combined_text, \"bbox\": combined_bbox})\n",
    "\n",
    "    for entry in result:\n",
    "        bbox = entry['bbox']\n",
    "        top_left = tuple(bbox[0])\n",
    "        bottom_right = tuple(bbox[1])\n",
    "        \n",
    "        cv2.rectangle(gray, top_left, bottom_right, (0, 255, 0), 2) \n",
    "\n",
    "        cv2.putText(gray, entry['text'], (top_left[0], top_left[1] - 10), cv2.FONT_HERSHEY_SIMPLEX, 0.5, (0, 255, 0), 1)\n",
    "\n",
    "    cv2.imshow('Image with Bounding Boxes', gray)\n",
    "    cv2.waitKey(0)\n",
    "    cv2.destroyAllWindows()\n",
    "\n",
    "    return result\n",
    "\n",
    "print(pytesseract_image_to_string_with_bboxes(r'notebooks\\invoices_dataset_final\\images\\Template19_Instance10.jpg'))"
   ]
  },
  {
   "cell_type": "code",
   "execution_count": 54,
   "id": "d874c442",
   "metadata": {},
   "outputs": [],
   "source": [
    "def extract_json_data_from_dir_bbox(json_path):\n",
    "    X_train = []  # List to store the text\n",
    "    y_train = []  # List to store the labels\n",
    "    bbox_train = []  # List to store bounding boxes\n",
    "\n",
    "    def extract_data_from_json(json_file):\n",
    "        with open(json_file, 'r') as f:\n",
    "            data = json.load(f)\n",
    "            \n",
    "        for label, content in data.items():\n",
    "            if isinstance(content, dict) and 'text' in content:\n",
    "                text = content['text'].split('\\n')[0]  # Extract the first line of text\n",
    "                bbox = content.get('bbox', None)  # Get the bounding box for the item\n",
    "                X_train.append(text)\n",
    "                y_train.append(label)\n",
    "                bbox_train.append(bbox)\n",
    "            elif isinstance(content, list):\n",
    "                for item in content:\n",
    "                    if isinstance(item, dict) and 'text' in item:\n",
    "                        text = item['text'].split('\\n')[0]  # Extract the first line of text\n",
    "                        bbox = item.get('bbox', None)  # Get the bounding box for the item\n",
    "                        X_train.append(text)\n",
    "                        y_train.append(label)\n",
    "                        bbox_train.append(bbox)\n",
    "\n",
    "    # Iterate over all the JSON files in the folder\n",
    "    for filename in os.listdir(json_path):\n",
    "        if filename.endswith('.json'):\n",
    "            json_file = os.path.join(json_path, filename)\n",
    "            extract_data_from_json(json_file)\n",
    "\n",
    "\n",
    "    # Create DataFrame\n",
    "    train_df = pd.DataFrame({\n",
    "        'Text': X_train,\n",
    "        'Label': y_train,\n",
    "        'Bounding Box': bbox_train\n",
    "    })\n",
    "\n",
    "    # Save to CSV\n",
    "    train_df.to_csv('train_data_with_bboxes.csv', index=False)\n",
    "\n",
    "    return X_train, y_train, bbox_train"
   ]
  },
  {
   "cell_type": "code",
   "execution_count": 55,
   "id": "ca821287",
   "metadata": {},
   "outputs": [
    {
     "name": "stdout",
     "output_type": "stream",
     "text": [
      "['Bill to:Michael Sparks', 'Terms and Conditions', 'Date: 03-Jan-1994', 'DISCOUNT(2.14%): (-)  9.39', 'Due Date : 06-Feb-2007'] ['BUYER', 'CONDITIONS', 'DATE', 'DISCOUNT', 'DUE_DATE'] [[[324.0, 591.4058000000001], [512.712, 675.4058]], [[26.0, 192.81980000000001], [305.52000000000004, 214.81980000000001]], [[4.0, 786.4058], [103.38399999999999, 798.4058]], [[250.0, 324.4058], [407.356, 336.4058]], [[3.0, 733.4058], [135.03599999999997, 745.4058]]]\n"
     ]
    }
   ],
   "source": [
    "X_train_bbox, y_train_bbox, bbox_train = extract_json_data_from_dir_bbox(r'notebooks\\invoices_dataset_final\\Annotations\\Original_Format')\n",
    "\n",
    "\n",
    "print(X_train_bbox[:5], y_train_bbox[:5], bbox_train[:5])"
   ]
  },
  {
   "cell_type": "code",
   "execution_count": 60,
   "id": "23bd9874",
   "metadata": {},
   "outputs": [
    {
     "name": "stdout",
     "output_type": "stream",
     "text": [
      "[[0.69083156 0.71390833 0.80236117 ... 0.93126386 0.7574996  0.64124814]\n",
      " [0.0554371  0.23276008 0.47811907 ... 0.24390244 0.29385912 0.11338514]\n",
      " [0.00852878 0.94930021 0.16178928 ... 0.13303769 0.05699035 0.17394467]\n",
      " ...\n",
      " [0.00639659 0.32351995 0.34796026 ... 0.29268293 0.27672042 0.17338703]\n",
      " [0.19402985 0.8853219  0.42312098 ... 0.13303769 0.10286063 0.09637475]\n",
      " [0.         0.         0.         ... 0.         0.         0.        ]]\n"
     ]
    }
   ],
   "source": [
    "import json\n",
    "import numpy as np\n",
    "from sklearn.preprocessing import MinMaxScaler\n",
    "\n",
    "# Function to extract bounding box features\n",
    "def extract_bbox_features(bboxes):\n",
    "    features = []\n",
    "    for bbox in bboxes:\n",
    "        if isinstance(bbox, str):  # Check if bbox is a valid string\n",
    "            try:\n",
    "                coords = json.loads(bbox)  # Convert string to list\n",
    "                x_min, y_min = coords[0]\n",
    "                x_max, y_max = coords[1]\n",
    "                width = x_max - x_min\n",
    "                height = y_max - y_min\n",
    "                area = width * height\n",
    "                aspect_ratio = height / width if width > 0 else 0\n",
    "                features.append([x_min, y_min, x_max, y_max, width, height, area, aspect_ratio])\n",
    "            except (json.JSONDecodeError, ValueError):\n",
    "                # Handle invalid JSON\n",
    "                features.append([0, 0, 0, 0, 0, 0, 0, 0])\n",
    "        else:\n",
    "            # Handle non-string (e.g., NaN or float)\n",
    "            features.append([0, 0, 0, 0, 0, 0, 0, 0])\n",
    "    return np.array(features)\n",
    "\n",
    "# Extract bbox features from the 'Bounding Box' column\n",
    "bbox_features = extract_bbox_features(data['Bounding Box'])\n",
    "\n",
    "# Normalize the bbox features\n",
    "scaler = MinMaxScaler()\n",
    "normalized_bbox_features = scaler.fit_transform(bbox_features)\n",
    "\n",
    "# Display normalized features\n",
    "print(normalized_bbox_features)\n"
   ]
  },
  {
   "cell_type": "code",
   "execution_count": 61,
   "id": "7a3ed679",
   "metadata": {},
   "outputs": [
    {
     "name": "stdout",
     "output_type": "stream",
     "text": [
      "Combined embeddings shape: (114594, 5008)\n"
     ]
    }
   ],
   "source": [
    "from sklearn.feature_extraction.text import TfidfVectorizer\n",
    "\n",
    "# Generate text embeddings using TF-IDF\n",
    "vectorizer = TfidfVectorizer(stop_words='english', max_features=5000)\n",
    "text_embeddings = vectorizer.fit_transform(data['Text']).toarray()\n",
    "\n",
    "# Combine text embeddings and bounding box features\n",
    "combined_embeddings = np.hstack([text_embeddings, normalized_bbox_features])\n",
    "\n",
    "print(f\"Combined embeddings shape: {combined_embeddings.shape}\")\n"
   ]
  },
  {
   "cell_type": "code",
   "execution_count": 62,
   "id": "9cd7a447",
   "metadata": {},
   "outputs": [
    {
     "name": "stdout",
     "output_type": "stream",
     "text": [
      "Training data shape: (91675, 5008)\n",
      "Validation data shape: (22919, 5008)\n"
     ]
    }
   ],
   "source": [
    "from sklearn.model_selection import train_test_split\n",
    "\n",
    "# Extract labels (y)\n",
    "y = data['Label']\n",
    "\n",
    "# Split into train and validation sets\n",
    "X_train, X_val, y_train, y_val = train_test_split(combined_embeddings, y, test_size=0.2, random_state=42)\n",
    "\n",
    "print(f\"Training data shape: {X_train.shape}\")\n",
    "print(f\"Validation data shape: {X_val.shape}\")\n"
   ]
  },
  {
   "cell_type": "code",
   "execution_count": 63,
   "id": "fdf737c0",
   "metadata": {},
   "outputs": [
    {
     "name": "stdout",
     "output_type": "stream",
     "text": [
      "                 precision    recall  f1-score   support\n",
      "\n",
      "     AMOUNT_DUE       0.99      1.00      1.00       158\n",
      "        BILL_TO       1.00      1.00      1.00       335\n",
      "          BUYER       1.00      1.00      1.00      1299\n",
      "     CONDITIONS       1.00      1.00      1.00       436\n",
      "           DATE       1.00      1.00      1.00      1993\n",
      "       DISCOUNT       1.00      1.00      1.00       495\n",
      "       DUE_DATE       1.00      1.00      1.00      1188\n",
      "        GST(1%)       0.98      0.93      0.95        45\n",
      "       GST(12%)       0.85      1.00      0.92        33\n",
      "       GST(18%)       0.95      1.00      0.98       121\n",
      "       GST(20%)       0.94      0.98      0.96        48\n",
      "        GST(5%)       1.00      0.74      0.85        43\n",
      "        GST(7%)       0.82      0.82      0.82        34\n",
      "        GST(9%)       0.85      0.84      0.84        68\n",
      "          GSTIN       1.00      1.00      1.00       253\n",
      "    GSTIN_BUYER       1.00      1.00      1.00       111\n",
      "   GSTIN_SELLER       1.00      1.00      1.00       199\n",
      "           NOTE       1.00      1.00      1.00      1058\n",
      "         NUMBER       1.00      1.00      1.00      1769\n",
      "          OTHER       1.00      1.00      1.00      1994\n",
      "PAYMENT_DETAILS       1.00      1.00      1.00       526\n",
      "      PO_NUMBER       1.00      1.00      1.00       288\n",
      " SELLER_ADDRESS       1.00      1.00      1.00      1631\n",
      "   SELLER_EMAIL       1.00      1.00      1.00       875\n",
      "    SELLER_NAME       1.00      1.00      1.00      1333\n",
      "    SELLER_SITE       1.00      1.00      1.00       261\n",
      "        SEND_TO       1.00      1.00      1.00       366\n",
      "      SUB_TOTAL       1.00      1.00      1.00      1335\n",
      "            TAX       1.00      1.00      1.00       770\n",
      "          TITLE       1.00      1.00      1.00      1521\n",
      "          TOTAL       1.00      1.00      1.00      1556\n",
      "    TOTAL_WORDS       1.00      1.00      1.00       777\n",
      "\n",
      "       accuracy                           1.00     22919\n",
      "      macro avg       0.98      0.98      0.98     22919\n",
      "   weighted avg       1.00      1.00      1.00     22919\n",
      "\n"
     ]
    }
   ],
   "source": [
    "from sklearn.svm import SVC\n",
    "from sklearn.metrics import classification_report\n",
    "\n",
    "# Train the SVM classifier\n",
    "classifier = SVC(kernel='linear', probability=True, random_state=42)\n",
    "classifier.fit(X_train, y_train)\n",
    "\n",
    "# Make predictions on the validation set\n",
    "y_pred = classifier.predict(X_val)\n",
    "\n",
    "# Evaluate the model\n",
    "print(classification_report(y_val, y_pred))\n"
   ]
  },
  {
   "cell_type": "code",
   "execution_count": null,
   "id": "75807138",
   "metadata": {},
   "outputs": [],
   "source": []
  }
 ],
 "metadata": {
  "kernelspec": {
   "display_name": "Python 3 (ipykernel)",
   "language": "python",
   "name": "python3"
  },
  "language_info": {
   "codemirror_mode": {
    "name": "ipython",
    "version": 3
   },
   "file_extension": ".py",
   "mimetype": "text/x-python",
   "name": "python",
   "nbconvert_exporter": "python",
   "pygments_lexer": "ipython3",
   "version": "3.9.13"
  }
 },
 "nbformat": 4,
 "nbformat_minor": 5
}
